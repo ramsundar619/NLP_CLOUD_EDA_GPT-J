{
  "nbformat": 4,
  "nbformat_minor": 0,
  "metadata": {
    "colab": {
      "name": "NLP_CLOUD_EDA.ipynb",
      "provenance": [],
      "authorship_tag": "ABX9TyMQa+9wKUQPWn7dptcZo30R",
      "include_colab_link": true
    },
    "kernelspec": {
      "name": "python3",
      "display_name": "Python 3"
    },
    "language_info": {
      "name": "python"
    }
  },
  "cells": [
    {
      "cell_type": "markdown",
      "metadata": {
        "id": "view-in-github",
        "colab_type": "text"
      },
      "source": [
        "<a href=\"https://colab.research.google.com/github/ramsundar619/NLP_CLOUD_EDA_GPT-J/blob/main/NLP_CLOUD_EDA.ipynb\" target=\"_parent\"><img src=\"https://colab.research.google.com/assets/colab-badge.svg\" alt=\"Open In Colab\"/></a>"
      ]
    },
    {
      "cell_type": "code",
      "source": [
        "!pip install nlpcloud"
      ],
      "metadata": {
        "colab": {
          "base_uri": "https://localhost:8080/"
        },
        "id": "45rroZyWFVjJ",
        "outputId": "f790e8aa-d2b2-431f-807f-f3f5665567a7"
      },
      "execution_count": 1,
      "outputs": [
        {
          "output_type": "stream",
          "name": "stdout",
          "text": [
            "Collecting nlpcloud\n",
            "  Downloading nlpcloud-1.0.17-py3-none-any.whl (3.8 kB)\n",
            "Requirement already satisfied: requests in /usr/local/lib/python3.7/dist-packages (from nlpcloud) (2.23.0)\n",
            "Requirement already satisfied: idna<3,>=2.5 in /usr/local/lib/python3.7/dist-packages (from requests->nlpcloud) (2.10)\n",
            "Requirement already satisfied: certifi>=2017.4.17 in /usr/local/lib/python3.7/dist-packages (from requests->nlpcloud) (2021.10.8)\n",
            "Requirement already satisfied: chardet<4,>=3.0.2 in /usr/local/lib/python3.7/dist-packages (from requests->nlpcloud) (3.0.4)\n",
            "Requirement already satisfied: urllib3!=1.25.0,!=1.25.1,<1.26,>=1.21.1 in /usr/local/lib/python3.7/dist-packages (from requests->nlpcloud) (1.24.3)\n",
            "Installing collected packages: nlpcloud\n",
            "Successfully installed nlpcloud-1.0.17\n"
          ]
        }
      ]
    },
    {
      "cell_type": "code",
      "execution_count": 2,
      "metadata": {
        "colab": {
          "base_uri": "https://localhost:8080/",
          "height": 502
        },
        "id": "1ieVrBb2ExyV",
        "outputId": "7b1b85e9-8d38-4395-b0b4-ece728237302"
      },
      "outputs": [
        {
          "output_type": "error",
          "ename": "HTTPError",
          "evalue": "ignored",
          "traceback": [
            "\u001b[0;31m---------------------------------------------------------------------------\u001b[0m",
            "\u001b[0;31mHTTPError\u001b[0m                                 Traceback (most recent call last)",
            "\u001b[0;32m/usr/local/lib/python3.7/dist-packages/nlpcloud/__init__.py\u001b[0m in \u001b[0;36mgeneration\u001b[0;34m(self, text, min_length, max_length, length_no_input, end_sequence, remove_input, do_sample, num_beams, early_stopping, no_repeat_ngram_size, num_return_sequences, top_k, top_p, temperature, repetition_penalty, length_penalty, bad_words)\u001b[0m\n\u001b[1;32m     84\u001b[0m         \u001b[0;32mtry\u001b[0m\u001b[0;34m:\u001b[0m\u001b[0;34m\u001b[0m\u001b[0;34m\u001b[0m\u001b[0m\n\u001b[0;32m---> 85\u001b[0;31m             \u001b[0mr\u001b[0m\u001b[0;34m.\u001b[0m\u001b[0mraise_for_status\u001b[0m\u001b[0;34m(\u001b[0m\u001b[0;34m)\u001b[0m\u001b[0;34m\u001b[0m\u001b[0;34m\u001b[0m\u001b[0m\n\u001b[0m\u001b[1;32m     86\u001b[0m         \u001b[0;32mexcept\u001b[0m \u001b[0mHTTPError\u001b[0m \u001b[0;32mas\u001b[0m \u001b[0merr\u001b[0m\u001b[0;34m:\u001b[0m\u001b[0;34m\u001b[0m\u001b[0;34m\u001b[0m\u001b[0m\n",
            "\u001b[0;32m/usr/local/lib/python3.7/dist-packages/requests/models.py\u001b[0m in \u001b[0;36mraise_for_status\u001b[0;34m(self)\u001b[0m\n\u001b[1;32m    940\u001b[0m         \u001b[0;32mif\u001b[0m \u001b[0mhttp_error_msg\u001b[0m\u001b[0;34m:\u001b[0m\u001b[0;34m\u001b[0m\u001b[0;34m\u001b[0m\u001b[0m\n\u001b[0;32m--> 941\u001b[0;31m             \u001b[0;32mraise\u001b[0m \u001b[0mHTTPError\u001b[0m\u001b[0;34m(\u001b[0m\u001b[0mhttp_error_msg\u001b[0m\u001b[0;34m,\u001b[0m \u001b[0mresponse\u001b[0m\u001b[0;34m=\u001b[0m\u001b[0mself\u001b[0m\u001b[0;34m)\u001b[0m\u001b[0;34m\u001b[0m\u001b[0;34m\u001b[0m\u001b[0m\n\u001b[0m\u001b[1;32m    942\u001b[0m \u001b[0;34m\u001b[0m\u001b[0m\n",
            "\u001b[0;31mHTTPError\u001b[0m: 403 Client Error: Forbidden for url: https://api.nlpcloud.io/v1/gpt-j/generation",
            "\nDuring handling of the above exception, another exception occurred:\n",
            "\u001b[0;31mHTTPError\u001b[0m                                 Traceback (most recent call last)",
            "\u001b[0;32m<ipython-input-2-75feedd086f7>\u001b[0m in \u001b[0;36m<module>\u001b[0;34m()\u001b[0m\n\u001b[1;32m     28\u001b[0m     \u001b[0mlength_no_input\u001b[0m\u001b[0;34m=\u001b[0m\u001b[0;32mTrue\u001b[0m\u001b[0;34m,\u001b[0m\u001b[0;34m\u001b[0m\u001b[0;34m\u001b[0m\u001b[0m\n\u001b[1;32m     29\u001b[0m     \u001b[0mend_sequence\u001b[0m\u001b[0;34m=\u001b[0m\u001b[0;34m\"\\n###\"\u001b[0m\u001b[0;34m,\u001b[0m\u001b[0;34m\u001b[0m\u001b[0;34m\u001b[0m\u001b[0m\n\u001b[0;32m---> 30\u001b[0;31m     remove_input=True)\n\u001b[0m\u001b[1;32m     31\u001b[0m \u001b[0mprint\u001b[0m\u001b[0;34m(\u001b[0m\u001b[0mgeneration\u001b[0m\u001b[0;34m[\u001b[0m\u001b[0;34m\"generated_text\"\u001b[0m\u001b[0;34m]\u001b[0m\u001b[0;34m)\u001b[0m\u001b[0;34m\u001b[0m\u001b[0;34m\u001b[0m\u001b[0m\n",
            "\u001b[0;32m/usr/local/lib/python3.7/dist-packages/nlpcloud/__init__.py\u001b[0m in \u001b[0;36mgeneration\u001b[0;34m(self, text, min_length, max_length, length_no_input, end_sequence, remove_input, do_sample, num_beams, early_stopping, no_repeat_ngram_size, num_return_sequences, top_k, top_p, temperature, repetition_penalty, length_penalty, bad_words)\u001b[0m\n\u001b[1;32m     88\u001b[0m                 \u001b[0;32mraise\u001b[0m \u001b[0mHTTPError\u001b[0m\u001b[0;34m(\u001b[0m\u001b[0mstr\u001b[0m\u001b[0;34m(\u001b[0m\u001b[0merr\u001b[0m\u001b[0;34m)\u001b[0m\u001b[0;34m)\u001b[0m\u001b[0;34m\u001b[0m\u001b[0;34m\u001b[0m\u001b[0m\n\u001b[1;32m     89\u001b[0m             \u001b[0;32melse\u001b[0m\u001b[0;34m:\u001b[0m\u001b[0;34m\u001b[0m\u001b[0;34m\u001b[0m\u001b[0m\n\u001b[0;32m---> 90\u001b[0;31m                 \u001b[0;32mraise\u001b[0m \u001b[0mHTTPError\u001b[0m\u001b[0;34m(\u001b[0m\u001b[0mstr\u001b[0m\u001b[0;34m(\u001b[0m\u001b[0merr\u001b[0m\u001b[0;34m)\u001b[0m \u001b[0;34m+\u001b[0m \u001b[0;34m\": \"\u001b[0m \u001b[0;34m+\u001b[0m \u001b[0mstr\u001b[0m\u001b[0;34m(\u001b[0m\u001b[0mr\u001b[0m\u001b[0;34m.\u001b[0m\u001b[0mtext\u001b[0m\u001b[0;34m)\u001b[0m\u001b[0;34m)\u001b[0m\u001b[0;34m\u001b[0m\u001b[0;34m\u001b[0m\u001b[0m\n\u001b[0m\u001b[1;32m     91\u001b[0m \u001b[0;34m\u001b[0m\u001b[0m\n\u001b[1;32m     92\u001b[0m         \u001b[0;32mreturn\u001b[0m \u001b[0mr\u001b[0m\u001b[0;34m.\u001b[0m\u001b[0mjson\u001b[0m\u001b[0;34m(\u001b[0m\u001b[0;34m)\u001b[0m\u001b[0;34m\u001b[0m\u001b[0;34m\u001b[0m\u001b[0m\n",
            "\u001b[0;31mHTTPError\u001b[0m: 403 Client Error: Forbidden for url: https://api.nlpcloud.io/v1/gpt-j/generation: In order to try GPT-J and GPT-Neo 2.7B you should subscribe to a pay-as-you-go plan. With this plan, you can generate thousands of words for free. \nIf you want to use these models in production, we recommend standard plans like the Starter GPU, Full GPU, and Enterprise GPU plans.\n"
          ]
        }
      ],
      "source": [
        "import nlpcloud\n",
        "client = nlpcloud.Client(\"gpt-j\", \"3f0dd33cc29b76accc2522eaa79be4c5db9d17e2\", gpu=False)\n",
        "generation = client.generation(\"\"\"Create a vertical bar chart on Trade_Dummy table with x axis as Isin and y axis as Quantity with filter columns as Isin and Quantity. The color of the chart should be darkgoldenrod.\n",
        "            chart name: vertical bar chart\n",
        "            table name: Trade_Dummy\n",
        "            x axis: Isin\n",
        "            y axis: Quantity\n",
        "            Filter Columns: Isin and Quantity\n",
        "            Color of Chart: darkgoldenrod\n",
        "            ###\n",
        "            Plot Isin v Quantity from Trade_Dummy table on a vertical bar chart with the color of the chart set to darkgoldenrod. The columns available for filter are Isin and Quantity.\n",
        "            chart name: vertical bar chart\n",
        "            table name: Trade_Dummy\n",
        "            x axis: Isin\n",
        "            y axis: Quantity\n",
        "            Filter Columns: Isin and Quantity\n",
        "            Color of Chart: darkgoldenrod\n",
        "            ###\n",
        "            Plot a darkgoldenrod vertical bar chart with Isin as x axis and Quantity as y axis from Trade_Dummy table.\n",
        "            chart name: vertical bar chart\n",
        "            table name: Trade_Dummy\n",
        "            x axis: Isin\n",
        "            y axis: Quantity\n",
        "            Filter Columns: Isin and Quantity\n",
        "            Color of Chart: darkgoldenrod\n",
        "            ###\n",
        "            Isin v/s Quantity vertical bar chart from Trade_Dummy table with Isin and Quantity as filter columns.\"\"\",\n",
        "    length_no_input=True,\n",
        "    end_sequence=\"\\n###\",\n",
        "    remove_input=True)\n",
        "print(generation[\"generated_text\"])"
      ]
    },
    {
      "cell_type": "code",
      "source": [
        ""
      ],
      "metadata": {
        "id": "C2MP1vvHFRAM"
      },
      "execution_count": null,
      "outputs": []
    }
  ]
}